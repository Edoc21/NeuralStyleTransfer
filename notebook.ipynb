{
 "cells": [
  {
   "cell_type": "code",
   "execution_count": 1,
   "id": "abe10ab1",
   "metadata": {},
   "outputs": [],
   "source": [
    "import os\n",
    "from NeuralTransferLibrary import main"
   ]
  },
  {
   "cell_type": "code",
   "execution_count": 2,
   "id": "b4aa8665",
   "metadata": {},
   "outputs": [
    {
     "name": "stdout",
     "output_type": "stream",
     "text": [
      "Loading images and building the model...\n",
      "Starting optimization...\n",
      "run 50:\n",
      "Style Loss : 3.9336 Content Loss: 4.1190\n",
      "\n",
      "run 100:\n",
      "Style Loss : 1.1367 Content Loss: 3.0314\n",
      "\n",
      "run 150:\n",
      "Style Loss : 0.7080 Content Loss: 2.6558\n",
      "\n",
      "run 200:\n",
      "Style Loss : 0.4753 Content Loss: 2.4955\n",
      "\n",
      "run 250:\n",
      "Style Loss : 0.3453 Content Loss: 2.4125\n",
      "\n",
      "run 300:\n",
      "Style Loss : 0.2657 Content Loss: 2.3585\n",
      "\n",
      "--------------------------------------------------\n",
      "Success Transfer!\n",
      "Please check output folder!\n",
      "--------------------------------------------------\n"
     ]
    }
   ],
   "source": [
    "!python -m NeuralTransferLibrary.main --style-img-number 0 --content-img-number 0"
   ]
  }
 ],
 "metadata": {
  "kernelspec": {
   "display_name": "py3_10_13",
   "language": "python",
   "name": "python3"
  },
  "language_info": {
   "codemirror_mode": {
    "name": "ipython",
    "version": 3
   },
   "file_extension": ".py",
   "mimetype": "text/x-python",
   "name": "python",
   "nbconvert_exporter": "python",
   "pygments_lexer": "ipython3",
   "version": "3.10.13"
  }
 },
 "nbformat": 4,
 "nbformat_minor": 5
}

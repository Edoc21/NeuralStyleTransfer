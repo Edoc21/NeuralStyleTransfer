{
 "cells": [
  {
   "cell_type": "code",
   "execution_count": null,
   "id": "abe10ab1",
   "metadata": {},
   "outputs": [],
   "source": [
    "import os\n",
    "from NeuralTransferLibrary.NeuralTransfer import NeuralTransferExe"
   ]
  },
  {
   "cell_type": "code",
   "execution_count": null,
   "id": "757cbc5b",
   "metadata": {},
   "outputs": [],
   "source": [
    "os.getcwd()"
   ]
  },
  {
   "cell_type": "code",
   "execution_count": null,
   "id": "b4aa8665",
   "metadata": {},
   "outputs": [],
   "source": [
    "!python -m NeuralTransferLibrary.main --style-img-number 0 --content-img-number 1"
   ]
  }
 ],
 "metadata": {
  "kernelspec": {
   "display_name": "py3_10_13",
   "language": "python",
   "name": "python3"
  },
  "language_info": {
   "codemirror_mode": {
    "name": "ipython",
    "version": 3
   },
   "file_extension": ".py",
   "mimetype": "text/x-python",
   "name": "python",
   "nbconvert_exporter": "python",
   "pygments_lexer": "ipython3",
   "version": "3.10.13"
  }
 },
 "nbformat": 4,
 "nbformat_minor": 5
}
